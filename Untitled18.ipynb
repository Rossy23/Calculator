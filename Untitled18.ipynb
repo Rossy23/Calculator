{
 "cells": [
  {
   "cell_type": "code",
   "execution_count": 1,
   "metadata": {},
   "outputs": [
    {
     "name": "stdout",
     "output_type": "stream",
     "text": [
      "Select an operation to perform:\n",
      "1. ADD\n",
      "2. SUBTRACT\n",
      "3. MULTIPLY\n",
      "4. DIVIDE\n",
      "1\n",
      "Enter first number10\n",
      "Enter second number5\n",
      "15\n"
     ]
    }
   ],
   "source": [
    "print(\"Select an operation to perform:\")\n",
    "print(\"1. ADD\")\n",
    "print(\"2. SUBTRACT\")\n",
    "print(\"3. MULTIPLY\")\n",
    "print(\"4. DIVIDE\")\n",
    "\n",
    "operation = input()\n",
    "\n",
    "if operation == \"1\":\n",
    "    num1 = int(input(\"Enter first number\"))\n",
    "    num2 = int(input(\"Enter second number\"))\n",
    "    print(int(num1 + num2))\n",
    "elif operation == \"2\":\n",
    "    num1 = int(input(\"Enter first number\"))\n",
    "    num2 = int(input(\"Enter second number\"))\n",
    "    print(num1 - num2)\n",
    "elif operation == \"3\":\n",
    "    num1 = int(input(\"Enter first number\"))\n",
    "    num2 = int(input(\"Enter second number\"))\n",
    "    print(num1 * num2)\n",
    "elif operation == \"4\":\n",
    "    num1 = int(input(\"Enter first number\"))\n",
    "    num2 = int(input(\"Enter second number\"))\n",
    "    print(num1 / num2)\n",
    "else:\n",
    "    print(\"Invalid Entry\")"
   ]
  },
  {
   "cell_type": "code",
   "execution_count": null,
   "metadata": {},
   "outputs": [],
   "source": []
  }
 ],
 "metadata": {
  "kernelspec": {
   "display_name": "Python 3",
   "language": "python",
   "name": "python3"
  },
  "language_info": {
   "codemirror_mode": {
    "name": "ipython",
    "version": 3
   },
   "file_extension": ".py",
   "mimetype": "text/x-python",
   "name": "python",
   "nbconvert_exporter": "python",
   "pygments_lexer": "ipython3",
   "version": "3.8.3"
  }
 },
 "nbformat": 4,
 "nbformat_minor": 4
}
